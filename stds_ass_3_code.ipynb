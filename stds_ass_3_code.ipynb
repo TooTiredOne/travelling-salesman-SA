{
  "cells": [
    {
      "cell_type": "code",
      "execution_count": null,
      "metadata": {
        "ExecuteTime": {
          "end_time": "2022-04-23T21:38:18.940801Z",
          "start_time": "2022-04-23T21:38:17.065660Z"
        },
        "id": "tVduWZ9djRmY"
      },
      "outputs": [],
      "source": [
        "import pandas as pd\n",
        "import numpy as np\n",
        "import mpu\n",
        "from time import time\n",
        "from matplotlib import pyplot as plt\n",
        "from matplotlib import animation"
      ]
    },
    {
      "cell_type": "code",
      "execution_count": null,
      "metadata": {
        "ExecuteTime": {
          "end_time": "2022-04-23T21:38:18.993193Z",
          "start_time": "2022-04-23T21:38:18.945904Z"
        },
        "id": "QKi0rjRIls-6"
      },
      "outputs": [],
      "source": [
        "df = pd.read_csv('city.csv')"
      ]
    },
    {
      "cell_type": "code",
      "execution_count": null,
      "metadata": {
        "ExecuteTime": {
          "end_time": "2022-04-23T21:38:19.040466Z",
          "start_time": "2022-04-23T21:38:18.994979Z"
        },
        "colab": {
          "base_uri": "https://localhost:8080/",
          "height": 386
        },
        "id": "F_AYKaAdlxCL",
        "outputId": "a9c48f68-b389-4c2b-8b83-b4122655b57f"
      },
      "outputs": [
        {
          "data": {
            "text/html": [
              "<div>\n",
              "<style scoped>\n",
              "    .dataframe tbody tr th:only-of-type {\n",
              "        vertical-align: middle;\n",
              "    }\n",
              "\n",
              "    .dataframe tbody tr th {\n",
              "        vertical-align: top;\n",
              "    }\n",
              "\n",
              "    .dataframe thead th {\n",
              "        text-align: right;\n",
              "    }\n",
              "</style>\n",
              "<table border=\"1\" class=\"dataframe\">\n",
              "  <thead>\n",
              "    <tr style=\"text-align: right;\">\n",
              "      <th></th>\n",
              "      <th>address</th>\n",
              "      <th>postal_code</th>\n",
              "      <th>country</th>\n",
              "      <th>federal_district</th>\n",
              "      <th>region_type</th>\n",
              "      <th>region</th>\n",
              "      <th>area_type</th>\n",
              "      <th>area</th>\n",
              "      <th>city_type</th>\n",
              "      <th>city</th>\n",
              "      <th>...</th>\n",
              "      <th>fias_level</th>\n",
              "      <th>capital_marker</th>\n",
              "      <th>okato</th>\n",
              "      <th>oktmo</th>\n",
              "      <th>tax_office</th>\n",
              "      <th>timezone</th>\n",
              "      <th>geo_lat</th>\n",
              "      <th>geo_lon</th>\n",
              "      <th>population</th>\n",
              "      <th>foundation_year</th>\n",
              "    </tr>\n",
              "  </thead>\n",
              "  <tbody>\n",
              "    <tr>\n",
              "      <th>0</th>\n",
              "      <td>Респ Адыгея, г Адыгейск</td>\n",
              "      <td>385200.0</td>\n",
              "      <td>Россия</td>\n",
              "      <td>Южный</td>\n",
              "      <td>Респ</td>\n",
              "      <td>Адыгея</td>\n",
              "      <td>NaN</td>\n",
              "      <td>NaN</td>\n",
              "      <td>г</td>\n",
              "      <td>Адыгейск</td>\n",
              "      <td>...</td>\n",
              "      <td>4</td>\n",
              "      <td>0</td>\n",
              "      <td>79403000000</td>\n",
              "      <td>79703000001</td>\n",
              "      <td>107</td>\n",
              "      <td>UTC+3</td>\n",
              "      <td>44.878414</td>\n",
              "      <td>39.190289</td>\n",
              "      <td>12689</td>\n",
              "      <td>1969</td>\n",
              "    </tr>\n",
              "    <tr>\n",
              "      <th>1</th>\n",
              "      <td>г Майкоп</td>\n",
              "      <td>385000.0</td>\n",
              "      <td>Россия</td>\n",
              "      <td>Южный</td>\n",
              "      <td>Респ</td>\n",
              "      <td>Адыгея</td>\n",
              "      <td>NaN</td>\n",
              "      <td>NaN</td>\n",
              "      <td>г</td>\n",
              "      <td>Майкоп</td>\n",
              "      <td>...</td>\n",
              "      <td>4</td>\n",
              "      <td>2</td>\n",
              "      <td>79401000000</td>\n",
              "      <td>79701000001</td>\n",
              "      <td>105</td>\n",
              "      <td>UTC+3</td>\n",
              "      <td>44.609827</td>\n",
              "      <td>40.100661</td>\n",
              "      <td>144055</td>\n",
              "      <td>1857</td>\n",
              "    </tr>\n",
              "    <tr>\n",
              "      <th>2</th>\n",
              "      <td>г Горно-Алтайск</td>\n",
              "      <td>649000.0</td>\n",
              "      <td>Россия</td>\n",
              "      <td>Сибирский</td>\n",
              "      <td>Респ</td>\n",
              "      <td>Алтай</td>\n",
              "      <td>NaN</td>\n",
              "      <td>NaN</td>\n",
              "      <td>г</td>\n",
              "      <td>Горно-Алтайск</td>\n",
              "      <td>...</td>\n",
              "      <td>4</td>\n",
              "      <td>2</td>\n",
              "      <td>84401000000</td>\n",
              "      <td>84701000001</td>\n",
              "      <td>400</td>\n",
              "      <td>UTC+7</td>\n",
              "      <td>51.958103</td>\n",
              "      <td>85.960324</td>\n",
              "      <td>62861</td>\n",
              "      <td>1830</td>\n",
              "    </tr>\n",
              "    <tr>\n",
              "      <th>3</th>\n",
              "      <td>Алтайский край, г Алейск</td>\n",
              "      <td>658125.0</td>\n",
              "      <td>Россия</td>\n",
              "      <td>Сибирский</td>\n",
              "      <td>край</td>\n",
              "      <td>Алтайский</td>\n",
              "      <td>NaN</td>\n",
              "      <td>NaN</td>\n",
              "      <td>г</td>\n",
              "      <td>Алейск</td>\n",
              "      <td>...</td>\n",
              "      <td>4</td>\n",
              "      <td>0</td>\n",
              "      <td>1403000000</td>\n",
              "      <td>1703000001</td>\n",
              "      <td>2201</td>\n",
              "      <td>UTC+7</td>\n",
              "      <td>52.492251</td>\n",
              "      <td>82.779361</td>\n",
              "      <td>28528</td>\n",
              "      <td>1913</td>\n",
              "    </tr>\n",
              "    <tr>\n",
              "      <th>4</th>\n",
              "      <td>г Барнаул</td>\n",
              "      <td>656000.0</td>\n",
              "      <td>Россия</td>\n",
              "      <td>Сибирский</td>\n",
              "      <td>край</td>\n",
              "      <td>Алтайский</td>\n",
              "      <td>NaN</td>\n",
              "      <td>NaN</td>\n",
              "      <td>г</td>\n",
              "      <td>Барнаул</td>\n",
              "      <td>...</td>\n",
              "      <td>4</td>\n",
              "      <td>2</td>\n",
              "      <td>1401000000</td>\n",
              "      <td>1701000001</td>\n",
              "      <td>2200</td>\n",
              "      <td>UTC+7</td>\n",
              "      <td>53.347997</td>\n",
              "      <td>83.779806</td>\n",
              "      <td>635585</td>\n",
              "      <td>1730</td>\n",
              "    </tr>\n",
              "  </tbody>\n",
              "</table>\n",
              "<p>5 rows × 24 columns</p>\n",
              "</div>"
            ],
            "text/plain": [
              "                    address  postal_code country federal_district region_type  \\\n",
              "0   Респ Адыгея, г Адыгейск     385200.0  Россия            Южный        Респ   \n",
              "1                  г Майкоп     385000.0  Россия            Южный        Респ   \n",
              "2           г Горно-Алтайск     649000.0  Россия        Сибирский        Респ   \n",
              "3  Алтайский край, г Алейск     658125.0  Россия        Сибирский        край   \n",
              "4                 г Барнаул     656000.0  Россия        Сибирский        край   \n",
              "\n",
              "      region area_type area city_type           city  ... fias_level  \\\n",
              "0     Адыгея       NaN  NaN         г       Адыгейск  ...          4   \n",
              "1     Адыгея       NaN  NaN         г         Майкоп  ...          4   \n",
              "2      Алтай       NaN  NaN         г  Горно-Алтайск  ...          4   \n",
              "3  Алтайский       NaN  NaN         г         Алейск  ...          4   \n",
              "4  Алтайский       NaN  NaN         г        Барнаул  ...          4   \n",
              "\n",
              "  capital_marker        okato        oktmo  tax_office  timezone    geo_lat  \\\n",
              "0              0  79403000000  79703000001         107     UTC+3  44.878414   \n",
              "1              2  79401000000  79701000001         105     UTC+3  44.609827   \n",
              "2              2  84401000000  84701000001         400     UTC+7  51.958103   \n",
              "3              0   1403000000   1703000001        2201     UTC+7  52.492251   \n",
              "4              2   1401000000   1701000001        2200     UTC+7  53.347997   \n",
              "\n",
              "     geo_lon  population foundation_year  \n",
              "0  39.190289       12689            1969  \n",
              "1  40.100661      144055            1857  \n",
              "2  85.960324       62861            1830  \n",
              "3  82.779361       28528            1913  \n",
              "4  83.779806      635585            1730  \n",
              "\n",
              "[5 rows x 24 columns]"
            ]
          },
          "execution_count": 3,
          "metadata": {},
          "output_type": "execute_result"
        }
      ],
      "source": [
        "df.head()"
      ]
    },
    {
      "cell_type": "code",
      "execution_count": null,
      "metadata": {
        "ExecuteTime": {
          "end_time": "2022-04-23T21:38:19.090503Z",
          "start_time": "2022-04-23T21:38:19.040466Z"
        },
        "colab": {
          "base_uri": "https://localhost:8080/",
          "height": 368
        },
        "id": "7VHOptR4lyce",
        "outputId": "0d6a1e2d-d07f-46a8-a9e2-fbfc0df316fb"
      },
      "outputs": [
        {
          "data": {
            "text/html": [
              "<div>\n",
              "<style scoped>\n",
              "    .dataframe tbody tr th:only-of-type {\n",
              "        vertical-align: middle;\n",
              "    }\n",
              "\n",
              "    .dataframe tbody tr th {\n",
              "        vertical-align: top;\n",
              "    }\n",
              "\n",
              "    .dataframe thead th {\n",
              "        text-align: right;\n",
              "    }\n",
              "</style>\n",
              "<table border=\"1\" class=\"dataframe\">\n",
              "  <thead>\n",
              "    <tr style=\"text-align: right;\">\n",
              "      <th></th>\n",
              "      <th>address</th>\n",
              "      <th>postal_code</th>\n",
              "      <th>country</th>\n",
              "      <th>federal_district</th>\n",
              "      <th>region_type</th>\n",
              "      <th>region</th>\n",
              "      <th>area_type</th>\n",
              "      <th>area</th>\n",
              "      <th>city_type</th>\n",
              "      <th>city</th>\n",
              "      <th>...</th>\n",
              "      <th>fias_level</th>\n",
              "      <th>capital_marker</th>\n",
              "      <th>okato</th>\n",
              "      <th>oktmo</th>\n",
              "      <th>tax_office</th>\n",
              "      <th>timezone</th>\n",
              "      <th>geo_lat</th>\n",
              "      <th>geo_lon</th>\n",
              "      <th>population</th>\n",
              "      <th>foundation_year</th>\n",
              "    </tr>\n",
              "  </thead>\n",
              "  <tbody>\n",
              "    <tr>\n",
              "      <th>509</th>\n",
              "      <td>г Москва</td>\n",
              "      <td>101000.0</td>\n",
              "      <td>Россия</td>\n",
              "      <td>Центральный</td>\n",
              "      <td>г</td>\n",
              "      <td>Москва</td>\n",
              "      <td>NaN</td>\n",
              "      <td>NaN</td>\n",
              "      <td>NaN</td>\n",
              "      <td>NaN</td>\n",
              "      <td>...</td>\n",
              "      <td>1</td>\n",
              "      <td>0</td>\n",
              "      <td>45000000000</td>\n",
              "      <td>45000000</td>\n",
              "      <td>7700</td>\n",
              "      <td>UTC+3</td>\n",
              "      <td>55.754047</td>\n",
              "      <td>37.620405</td>\n",
              "      <td>11514330</td>\n",
              "      <td>1147</td>\n",
              "    </tr>\n",
              "    <tr>\n",
              "      <th>786</th>\n",
              "      <td>г Санкт-Петербург</td>\n",
              "      <td>190000.0</td>\n",
              "      <td>Россия</td>\n",
              "      <td>Северо-Западный</td>\n",
              "      <td>г</td>\n",
              "      <td>Санкт-Петербург</td>\n",
              "      <td>NaN</td>\n",
              "      <td>NaN</td>\n",
              "      <td>NaN</td>\n",
              "      <td>NaN</td>\n",
              "      <td>...</td>\n",
              "      <td>1</td>\n",
              "      <td>0</td>\n",
              "      <td>40000000000</td>\n",
              "      <td>40000000</td>\n",
              "      <td>7800</td>\n",
              "      <td>UTC+3</td>\n",
              "      <td>59.939131</td>\n",
              "      <td>30.315900</td>\n",
              "      <td>4848742</td>\n",
              "      <td>1703</td>\n",
              "    </tr>\n",
              "    <tr>\n",
              "      <th>647</th>\n",
              "      <td>г Новосибирск</td>\n",
              "      <td>630000.0</td>\n",
              "      <td>Россия</td>\n",
              "      <td>Сибирский</td>\n",
              "      <td>обл</td>\n",
              "      <td>Новосибирская</td>\n",
              "      <td>NaN</td>\n",
              "      <td>NaN</td>\n",
              "      <td>г</td>\n",
              "      <td>Новосибирск</td>\n",
              "      <td>...</td>\n",
              "      <td>4</td>\n",
              "      <td>2</td>\n",
              "      <td>50401000000</td>\n",
              "      <td>50701000001</td>\n",
              "      <td>5400</td>\n",
              "      <td>UTC+7</td>\n",
              "      <td>55.028191</td>\n",
              "      <td>82.921149</td>\n",
              "      <td>1498921</td>\n",
              "      <td>1893</td>\n",
              "    </tr>\n",
              "    <tr>\n",
              "      <th>832</th>\n",
              "      <td>г Екатеринбург</td>\n",
              "      <td>620000.0</td>\n",
              "      <td>Россия</td>\n",
              "      <td>Уральский</td>\n",
              "      <td>обл</td>\n",
              "      <td>Свердловская</td>\n",
              "      <td>NaN</td>\n",
              "      <td>NaN</td>\n",
              "      <td>г</td>\n",
              "      <td>Екатеринбург</td>\n",
              "      <td>...</td>\n",
              "      <td>4</td>\n",
              "      <td>2</td>\n",
              "      <td>65401000000</td>\n",
              "      <td>65701000001</td>\n",
              "      <td>6600</td>\n",
              "      <td>UTC+5</td>\n",
              "      <td>56.838522</td>\n",
              "      <td>60.605491</td>\n",
              "      <td>1377738</td>\n",
              "      <td>1723</td>\n",
              "    </tr>\n",
              "    <tr>\n",
              "      <th>619</th>\n",
              "      <td>г Нижний Новгород</td>\n",
              "      <td>603000.0</td>\n",
              "      <td>Россия</td>\n",
              "      <td>Приволжский</td>\n",
              "      <td>обл</td>\n",
              "      <td>Нижегородская</td>\n",
              "      <td>NaN</td>\n",
              "      <td>NaN</td>\n",
              "      <td>г</td>\n",
              "      <td>Нижний Новгород</td>\n",
              "      <td>...</td>\n",
              "      <td>4</td>\n",
              "      <td>2</td>\n",
              "      <td>22401000000</td>\n",
              "      <td>22701000001</td>\n",
              "      <td>5200</td>\n",
              "      <td>UTC+3</td>\n",
              "      <td>56.324063</td>\n",
              "      <td>44.005391</td>\n",
              "      <td>1250615</td>\n",
              "      <td>1221</td>\n",
              "    </tr>\n",
              "  </tbody>\n",
              "</table>\n",
              "<p>5 rows × 24 columns</p>\n",
              "</div>"
            ],
            "text/plain": [
              "               address  postal_code country federal_district region_type  \\\n",
              "509           г Москва     101000.0  Россия      Центральный           г   \n",
              "786  г Санкт-Петербург     190000.0  Россия  Северо-Западный           г   \n",
              "647      г Новосибирск     630000.0  Россия        Сибирский         обл   \n",
              "832     г Екатеринбург     620000.0  Россия        Уральский         обл   \n",
              "619  г Нижний Новгород     603000.0  Россия      Приволжский         обл   \n",
              "\n",
              "              region area_type area city_type             city  ...  \\\n",
              "509           Москва       NaN  NaN       NaN              NaN  ...   \n",
              "786  Санкт-Петербург       NaN  NaN       NaN              NaN  ...   \n",
              "647    Новосибирская       NaN  NaN         г      Новосибирск  ...   \n",
              "832     Свердловская       NaN  NaN         г     Екатеринбург  ...   \n",
              "619    Нижегородская       NaN  NaN         г  Нижний Новгород  ...   \n",
              "\n",
              "    fias_level capital_marker        okato        oktmo  tax_office  timezone  \\\n",
              "509          1              0  45000000000     45000000        7700     UTC+3   \n",
              "786          1              0  40000000000     40000000        7800     UTC+3   \n",
              "647          4              2  50401000000  50701000001        5400     UTC+7   \n",
              "832          4              2  65401000000  65701000001        6600     UTC+5   \n",
              "619          4              2  22401000000  22701000001        5200     UTC+3   \n",
              "\n",
              "       geo_lat    geo_lon  population foundation_year  \n",
              "509  55.754047  37.620405    11514330            1147  \n",
              "786  59.939131  30.315900     4848742            1703  \n",
              "647  55.028191  82.921149     1498921            1893  \n",
              "832  56.838522  60.605491     1377738            1723  \n",
              "619  56.324063  44.005391     1250615            1221  \n",
              "\n",
              "[5 rows x 24 columns]"
            ]
          },
          "execution_count": 4,
          "metadata": {},
          "output_type": "execute_result"
        }
      ],
      "source": [
        "df = df.sort_values(by='population', ascending=False)[:30]\n",
        "df.head()"
      ]
    },
    {
      "cell_type": "code",
      "execution_count": null,
      "metadata": {
        "ExecuteTime": {
          "end_time": "2022-04-23T21:38:19.120106Z",
          "start_time": "2022-04-23T21:38:19.092523Z"
        },
        "colab": {
          "base_uri": "https://localhost:8080/"
        },
        "id": "T813YLsrrR_B",
        "outputId": "258dfc18-828c-4a80-a07f-cafeb6ef1dad"
      },
      "outputs": [
        {
          "data": {
            "text/plain": [
              "г Москва: ((55.7540471, 37.620405))"
            ]
          },
          "execution_count": 5,
          "metadata": {},
          "output_type": "execute_result"
        }
      ],
      "source": [
        "class City:\n",
        "  def __init__(self, address, geo_lat, geo_lon):\n",
        "    self.address = address\n",
        "    self.geo_lat = geo_lat\n",
        "    self.geo_lon = geo_lon\n",
        "  \n",
        "  def __repr__(self):\n",
        "    return f\"{self.address}: ({self.geo_lat, self.geo_lon})\"\n",
        "\n",
        "cities = []\n",
        "for _, row in df.iterrows():\n",
        "  cities.append(City(row['address'], row['geo_lat'], row['geo_lon']))\n",
        "cities = np.array(cities)\n",
        "cities[0]"
      ]
    },
    {
      "cell_type": "markdown",
      "source": [
        "## Simulated Annealing\n",
        "\n",
        "The steps are as described in task description. First, get the initial state, set $T$, $alpha$. Then, repeat the following steps until $T \\le 1$:\n",
        "1. Randomly select 2 cities and swap them. This new state is $x'$.\n",
        "2. Calculate $p^*(x') = e^{(-dist(x') / T)}$.\n",
        "3. Calculate $p^*(x_t) = e^{(-dist(x_t) / T)}$.\n",
        "4. Generate $u$ ~ $U(0, 1)$.\n",
        "5. If $u \\le \\frac{p^*(x')}{p^*(x_t)}$, then $x_{t+1} = x'$. Otherwise, $x_{t + 1} = x_t$\n",
        "6. $T = \\alpha * T$."
      ],
      "metadata": {
        "id": "r7Wa5wMpYW-c"
      }
    },
    {
      "cell_type": "code",
      "execution_count": null,
      "metadata": {
        "ExecuteTime": {
          "end_time": "2022-04-23T21:38:19.136102Z",
          "start_time": "2022-04-23T21:38:19.120106Z"
        },
        "id": "n0VBmC-fsTcd"
      },
      "outputs": [],
      "source": [
        "def calc_proposed_state(cur_state):\n",
        "  indeces = np.random.choice(len(cur_state), 2, replace=False)\n",
        "  min_index = min(indeces[0], indeces[1])\n",
        "  max_index = max(indeces[0], indeces[1])\n",
        "  proposed_state = np.copy(cur_state)\n",
        "  proposed_state[[min_index, max_index]] = proposed_state[[max_index, min_index]]\n",
        "  return proposed_state\n",
        "\n",
        "def calc_distance(first_city, second_city):\n",
        "  return mpu.haversine_distance(\n",
        "      (first_city.geo_lat, first_city.geo_lon), \n",
        "      (second_city.geo_lat, second_city.geo_lon)\n",
        "      )\n",
        "\n",
        "def calc_path_length(state):\n",
        "  length = calc_distance(state[-1], state[0])\n",
        "  for i in range(1, len(state)):\n",
        "    length += calc_distance(state[i-1], state[i])\n",
        "  return length\n",
        "\n",
        "def calc_next_state(cur_state, T):\n",
        "  proposed_state = calc_proposed_state(cur_state)\n",
        "  \n",
        "  non_zero_T = T + 1e-9\n",
        "  e_proposed_state = -calc_path_length(proposed_state)\n",
        "  e_current_state = -calc_path_length(cur_state)\n",
        "  alpha = np.exp((e_proposed_state - e_current_state) / non_zero_T)\n",
        "\n",
        "  u = np.random.rand(1)[0]\n",
        "\n",
        "  return proposed_state if u <= alpha else cur_state\n",
        "\n",
        "\n",
        "def run_sa(initial_state, T, alpha, save_history = False):\n",
        "  cur_state = initial_state\n",
        "  history = [cur_state]\n",
        "  while T > 1:\n",
        "    path_length = calc_path_length(cur_state)\n",
        "    cur_state = calc_next_state(cur_state, T)\n",
        "    T = T * alpha\n",
        "    history.append(cur_state)\n",
        "  path_length = calc_path_length(cur_state)\n",
        "  return history[-1] if(not save_history) else history\n",
        "\n",
        "    "
      ]
    },
    {
      "cell_type": "code",
      "execution_count": null,
      "metadata": {
        "ExecuteTime": {
          "end_time": "2022-04-23T21:38:19.165101Z",
          "start_time": "2022-04-23T21:38:19.136102Z"
        },
        "colab": {
          "base_uri": "https://localhost:8080/"
        },
        "id": "Fs2fsR6m5YWT",
        "outputId": "f23c0a8e-9fc0-4c46-e8b6-f1b13efefcdf"
      },
      "outputs": [
        {
          "data": {
            "text/plain": [
              "array([г Москва: ((55.7540471, 37.620405)),\n",
              "       г Санкт-Петербург: ((59.9391313, 30.3159004)),\n",
              "       г Новосибирск: ((55.028191, 82.9211489)),\n",
              "       г Екатеринбург: ((56.8385216, 60.6054911)),\n",
              "       г Нижний Новгород: ((56.3240627, 44.0053913)),\n",
              "       г Казань: ((55.7943584, 49.1114975)),\n",
              "       г Самара: ((53.1950306, 50.1069518)),\n",
              "       г Омск: ((54.9848566, 73.3674517)),\n",
              "       г Челябинск: ((55.1602624, 61.4008078)),\n",
              "       г Ростов-на-Дону: ((47.2224566, 39.718803)),\n",
              "       г Саратов: ((51.533557, 46.034257)),\n",
              "       г Волгоград: ((48.7070042, 44.5170339)),\n",
              "       г Ижевск: ((56.852738, 53.2114896)),\n",
              "       г Красноярск: ((56.0093879, 92.8524806)),\n",
              "       г Воронеж: ((51.6593332, 39.1969229)),\n",
              "       г Уфа: ((54.734944, 55.9578468)),\n",
              "       г Краснодар: ((45.0401604, 38.9759647)),\n",
              "       Самарская обл, г Тольятти: ((53.5205348, 49.3894028)),\n",
              "       г Барнаул: ((53.3479968, 83.7798064)),\n",
              "       г Пермь: ((58.0102583, 56.2342034)),\n",
              "       г Ульяновск: ((54.3079415, 48.3748487)),\n",
              "       г Владивосток: ((43.1164904, 131.8823937)),\n",
              "       г Ярославль: ((57.6215477, 39.8977411)),\n",
              "       г Иркутск: ((52.2864036, 104.2807466)),\n",
              "       г Тюмень: ((57.1529744, 65.5344099)),\n",
              "       г Махачкала: ((42.9849159, 47.5047181)),\n",
              "       г Хабаровск: ((48.4647258, 135.0598942)),\n",
              "       г Оренбург: ((51.7875092, 55.1018828)),\n",
              "       Кемеровская область - Кузбасс, г Новокузнецк: ((53.794315, 87.2142745)),\n",
              "       г Кемерово: ((55.3910651, 86.0467781))], dtype=object)"
            ]
          },
          "execution_count": 7,
          "metadata": {},
          "output_type": "execute_result"
        }
      ],
      "source": [
        "run_sa(cities, 1000, 0.4)"
      ]
    },
    {
      "cell_type": "markdown",
      "metadata": {
        "id": "bvP4eQX9DFEZ"
      },
      "source": [
        "## Convergence speed for different  annealing rates\n",
        "\n",
        "Higher value of $\\alpha$ leads to higher number of iterations. However, as one can see from the 2nd plot, more iterations doesn't necessarily lead to better results. It is not guaranteed to obtain the global optimum."
      ]
    },
    {
      "cell_type": "code",
      "execution_count": null,
      "metadata": {
        "ExecuteTime": {
          "end_time": "2022-04-23T21:38:19.440517Z",
          "start_time": "2022-04-23T21:38:19.167548Z"
        },
        "colab": {
          "base_uri": "https://localhost:8080/",
          "height": 282
        },
        "id": "aGjsSLmHDBhF",
        "outputId": "696ceacd-b37b-4f1c-a584-84d0d2499e34"
      },
      "outputs": [
        {
          "data": {
            "image/png": "[encoded data removed]",
            "text/plain": [
              "<Figure size 432x288 with 1 Axes>"
            ]
          },
          "metadata": {
            "needs_background": "light"
          },
          "output_type": "display_data"
        }
      ],
      "source": [
        "annealing_rates = [0.1, 0.5, 0.9]\n",
        "T = 500\n",
        "\n",
        "times = []\n",
        "final_lengths = []\n",
        "for a in annealing_rates:\n",
        "  start_time = time()\n",
        "  state = run_sa(cities, T, a)\n",
        "  end_time = time()\n",
        "  times.append(end_time - start_time)\n",
        "  final_lengths.append(calc_path_length(state))\n",
        "\n",
        "plt.ylabel(\"time to execute\")\n",
        "plt.xlabel(\"annealing rate\")\n",
        "plt.scatter(annealing_rates, times)\n",
        "plt.plot(annealing_rates, times, '--')\n",
        "plt.show()"
      ]
    },
    {
      "cell_type": "code",
      "execution_count": null,
      "metadata": {
        "ExecuteTime": {
          "end_time": "2022-04-23T21:38:19.673695Z",
          "start_time": "2022-04-23T21:38:19.448444Z"
        },
        "colab": {
          "base_uri": "https://localhost:8080/",
          "height": 278
        },
        "id": "lbHVRGMrGmw7",
        "outputId": "7a34d42e-dd8c-4389-b159-14e0f9be5362"
      },
      "outputs": [
        {
          "data": {
            "image/png": "[encoded data removed]",
            "text/plain": [
              "<Figure size 432x288 with 1 Axes>"
            ]
          },
          "metadata": {
            "needs_background": "light"
          },
          "output_type": "display_data"
        }
      ],
      "source": [
        "plt.ylabel(\"final path lengths\")\n",
        "plt.xlabel(\"annealing rate\")\n",
        "plt.scatter(annealing_rates, final_lengths)\n",
        "plt.plot(annealing_rates, final_lengths, '--')\n",
        "plt.show()"
      ]
    },
    {
      "cell_type": "markdown",
      "metadata": {
        "id": "6eBA6J_qL5Jf"
      },
      "source": [
        "## Animation\n",
        "\n",
        "reference:\n",
        "https://towardsdatascience.com/animations-with-matplotlib-d96375c5442c"
      ]
    },
    {
      "cell_type": "code",
      "execution_count": null,
      "metadata": {
        "ExecuteTime": {
          "end_time": "2022-04-23T21:38:25.451773Z",
          "start_time": "2022-04-23T21:38:19.673695Z"
        },
        "colab": {
          "base_uri": "https://localhost:8080/",
          "height": 268
        },
        "id": "kbiWy-xmILfb",
        "outputId": "1e77d2cc-bad2-4fac-9976-5c26eb8fb396"
      },
      "outputs": [
        {
          "name": "stderr",
          "output_type": "stream",
          "text": [
            "<ipython-input-6-7e2ede621eb6>:27: RuntimeWarning: overflow encountered in exp\n",
            "  alpha = np.exp((e_proposed_state - e_current_state) / non_zero_T)\n",
            "MovieWriter imagemagick unavailable; using Pillow instead.\n"
          ]
        },
        {
          "data": {
            "image/png": "[encoded data removed]",
            "text/plain": [
              "<Figure size 720x720 with 1 Axes>"
            ]
          },
          "metadata": {
            "needs_background": "light"
          },
          "output_type": "display_data"
        }
      ],
      "source": [
        "fig = plt.figure(figsize = (10, 10))\n",
        "ax = plt.axes()\n",
        "\n",
        "path, = ax.plot([], [])\n",
        "text = ax.text(30, 40, '')\n",
        "\n",
        "history = run_sa(cities, T, alpha = 0.9, save_history = True)\n",
        "\n",
        "def init():\n",
        "  path.set_data([], [])\n",
        "  text.set_text('')\n",
        "  return path, text\n",
        "\n",
        "def animate(i):\n",
        "  current_state = history[i]\n",
        "  geo_lats = []\n",
        "  geo_lons = []\n",
        "  for city in current_state:\n",
        "    geo_lats.append(city.geo_lon)\n",
        "    geo_lons.append(city.geo_lat)\n",
        "  path.set_data(geo_lats, geo_lons)\n",
        "  text.set_text(f\"path length: {calc_path_length(current_state)}\")\n",
        "  return path, text\n",
        "\n",
        "for city in cities:\n",
        "    ax.plot(city.geo_lon, city.geo_lat, marker='o', color='black')\n",
        "    ax.text(city.geo_lon - 1, city.geo_lat + 0.1, city.address.split()[-1])\n",
        " \n",
        "\n",
        "result = animation.FuncAnimation(fig, animate, init_func=init, frames=len(history) - 1, interval=20, repeat=False)\n",
        "result.save('result.gif', writer='imagemagick')\n",
        "\n",
        "plt.show()"
      ]
    }
  ],
  "metadata": {
    "colab": {
      "name": "stds_ass_3_code.ipynb",
      "provenance": [],
      "collapsed_sections": []
    },
    "kernelspec": {
      "display_name": "Python 3",
      "language": "python",
      "name": "python3"
    },
    "language_info": {
      "codemirror_mode": {
        "name": "ipython",
        "version": 3
      },
      "file_extension": ".py",
      "mimetype": "text/x-python",
      "name": "python",
      "nbconvert_exporter": "python",
      "pygments_lexer": "ipython3",
      "version": "3.8.8"
    },
    "toc": {
      "base_numbering": 1,
      "nav_menu": {},
      "number_sections": true,
      "sideBar": true,
      "skip_h1_title": false,
      "title_cell": "Table of Contents",
      "title_sidebar": "Contents",
      "toc_cell": false,
      "toc_position": {},
      "toc_section_display": true,
      "toc_window_display": false
    }
  },
  "nbformat": 4,
  "nbformat_minor": 0
}